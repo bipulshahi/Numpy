{
  "nbformat": 4,
  "nbformat_minor": 0,
  "metadata": {
    "colab": {
      "provenance": []
    },
    "kernelspec": {
      "name": "python3",
      "display_name": "Python 3"
    },
    "language_info": {
      "name": "python"
    }
  },
  "cells": [
    {
      "cell_type": "markdown",
      "source": [
        "**shape manipulation**"
      ],
      "metadata": {
        "id": "Uq0wUJsR9Cnb"
      }
    },
    {
      "cell_type": "code",
      "execution_count": null,
      "metadata": {
        "colab": {
          "base_uri": "https://localhost:8080/"
        },
        "id": "Xi1fJkSF7gn4",
        "outputId": "4a72a421-6973-4e5e-f1ae-40cfadd7a9ac"
      },
      "outputs": [
        {
          "output_type": "stream",
          "name": "stdout",
          "text": [
            "[[1 2 3 4]\n",
            " [5 4 3 6]\n",
            " [3 6 4 3]]\n"
          ]
        }
      ],
      "source": [
        "import numpy as np\n",
        "\n",
        "a = np.array([[1,2,3,4] , [5,4,3,6] , [3,6,4,3]])\n",
        "print(a)"
      ]
    },
    {
      "cell_type": "code",
      "source": [
        "#12 => (1,12), (12,1) , (2,6) , (6,2) , (3,4) , (4,3)\n",
        "\n",
        "b = a.reshape(4,3)\n",
        "print(b)"
      ],
      "metadata": {
        "colab": {
          "base_uri": "https://localhost:8080/"
        },
        "id": "u85H0U-k9M7u",
        "outputId": "eaad7c24-2b81-435d-9f05-2f28841e0790"
      },
      "execution_count": null,
      "outputs": [
        {
          "output_type": "stream",
          "name": "stdout",
          "text": [
            "[[1 2 3]\n",
            " [4 5 4]\n",
            " [3 6 3]\n",
            " [6 4 3]]\n"
          ]
        }
      ]
    },
    {
      "cell_type": "code",
      "source": [
        "c = np.arange(0,16)\n",
        "print(c)"
      ],
      "metadata": {
        "colab": {
          "base_uri": "https://localhost:8080/"
        },
        "id": "4dgkd84j9Z3S",
        "outputId": "e60e2bf5-4f7e-4adb-aeed-90bf66004f13"
      },
      "execution_count": null,
      "outputs": [
        {
          "output_type": "stream",
          "name": "stdout",
          "text": [
            "[ 0  1  2  3  4  5  6  7  8  9 10 11 12 13 14 15]\n"
          ]
        }
      ]
    },
    {
      "cell_type": "code",
      "source": [
        "d = c.reshape(4,4)\n",
        "print(d)"
      ],
      "metadata": {
        "colab": {
          "base_uri": "https://localhost:8080/"
        },
        "id": "zI8L3ehD9i8Q",
        "outputId": "6ebfc581-3626-4529-8314-b2d80b181ac8"
      },
      "execution_count": null,
      "outputs": [
        {
          "output_type": "stream",
          "name": "stdout",
          "text": [
            "[[ 0  1  2  3]\n",
            " [ 4  5  6  7]\n",
            " [ 8  9 10 11]\n",
            " [12 13 14 15]]\n"
          ]
        }
      ]
    },
    {
      "cell_type": "code",
      "source": [
        "print(d.ndim)\n",
        "print(d.shape)"
      ],
      "metadata": {
        "colab": {
          "base_uri": "https://localhost:8080/"
        },
        "id": "MLQy7BP99oZg",
        "outputId": "63e9ef24-ff92-4539-d1df-6404ba139bc8"
      },
      "execution_count": null,
      "outputs": [
        {
          "output_type": "stream",
          "name": "stdout",
          "text": [
            "2\n",
            "(4, 4)\n"
          ]
        }
      ]
    },
    {
      "cell_type": "code",
      "source": [
        "print(d.ravel())"
      ],
      "metadata": {
        "colab": {
          "base_uri": "https://localhost:8080/"
        },
        "id": "FJi35muR9sRT",
        "outputId": "ad592703-bbf2-4a15-96b4-722ada8e6981"
      },
      "execution_count": null,
      "outputs": [
        {
          "output_type": "stream",
          "name": "stdout",
          "text": [
            "[ 0  1  2  3  4  5  6  7  8  9 10 11 12 13 14 15]\n"
          ]
        }
      ]
    },
    {
      "cell_type": "code",
      "source": [
        "print(d.flatten())"
      ],
      "metadata": {
        "colab": {
          "base_uri": "https://localhost:8080/"
        },
        "id": "kf5xdWtv9wiq",
        "outputId": "c3b396aa-6313-4747-aa62-08a493af74e3"
      },
      "execution_count": null,
      "outputs": [
        {
          "output_type": "stream",
          "name": "stdout",
          "text": [
            "[ 0  1  2  3  4  5  6  7  8  9 10 11 12 13 14 15]\n"
          ]
        }
      ]
    },
    {
      "cell_type": "markdown",
      "source": [
        "**Indexing and slicing**"
      ],
      "metadata": {
        "id": "oClKQJQTFuUU"
      }
    },
    {
      "cell_type": "code",
      "source": [
        "arr1 = np.array([[4,5,3,2,1] , [6,3,8,9,2] , [3,6,5,4,9]])\n",
        "print(arr1)"
      ],
      "metadata": {
        "colab": {
          "base_uri": "https://localhost:8080/"
        },
        "id": "wgOrwS359y1n",
        "outputId": "16a93f6e-0dfd-4d42-8dda-ef6672498612"
      },
      "execution_count": null,
      "outputs": [
        {
          "output_type": "stream",
          "name": "stdout",
          "text": [
            "[[4 5 3 2 1]\n",
            " [6 3 8 9 2]\n",
            " [3 6 5 4 9]]\n"
          ]
        }
      ]
    },
    {
      "cell_type": "code",
      "source": [
        "#access an element from first row (index 0) and second column (index 1)\n",
        "\n",
        "print(arr1[0,1])\n",
        "print(arr1[1,2])"
      ],
      "metadata": {
        "colab": {
          "base_uri": "https://localhost:8080/"
        },
        "id": "AjuQ6sFAF6lm",
        "outputId": "6d5efca8-6563-45dc-e2a8-98fbea4c9898"
      },
      "execution_count": null,
      "outputs": [
        {
          "output_type": "stream",
          "name": "stdout",
          "text": [
            "5\n",
            "8\n"
          ]
        }
      ]
    },
    {
      "cell_type": "code",
      "source": [
        "#slicing -> subsetting a numpy array\n",
        "\n",
        "print(arr1[1 : 3 , 2 : 5])"
      ],
      "metadata": {
        "colab": {
          "base_uri": "https://localhost:8080/"
        },
        "id": "8909T64iGOjY",
        "outputId": "886bc5f9-62f1-4436-d653-84a69599ee2a"
      },
      "execution_count": null,
      "outputs": [
        {
          "output_type": "stream",
          "name": "stdout",
          "text": [
            "[[8 9 2]\n",
            " [5 4 9]]\n"
          ]
        }
      ]
    },
    {
      "cell_type": "code",
      "source": [
        "print(arr1[0:3 , 2 : 2+2])"
      ],
      "metadata": {
        "colab": {
          "base_uri": "https://localhost:8080/"
        },
        "id": "5RdNlYb9GgVp",
        "outputId": "6b98fda8-feca-441e-d390-26c1cb995892"
      },
      "execution_count": null,
      "outputs": [
        {
          "output_type": "stream",
          "name": "stdout",
          "text": [
            "[[3 2]\n",
            " [8 9]\n",
            " [5 4]]\n"
          ]
        }
      ]
    },
    {
      "cell_type": "code",
      "source": [
        "#last columns\n",
        "print(arr1[: , 4:])"
      ],
      "metadata": {
        "colab": {
          "base_uri": "https://localhost:8080/"
        },
        "id": "ZzhzjVJrGxFx",
        "outputId": "112e7f1b-8e14-4608-a3d3-ed07706b0477"
      },
      "execution_count": null,
      "outputs": [
        {
          "output_type": "stream",
          "name": "stdout",
          "text": [
            "[[1]\n",
            " [2]\n",
            " [9]]\n"
          ]
        }
      ]
    },
    {
      "cell_type": "code",
      "source": [
        "print(arr1[: , -1:])"
      ],
      "metadata": {
        "colab": {
          "base_uri": "https://localhost:8080/"
        },
        "id": "RGSBUpFDG1Yp",
        "outputId": "d437ff27-3c32-4b68-be99-803e2e187158"
      },
      "execution_count": null,
      "outputs": [
        {
          "output_type": "stream",
          "name": "stdout",
          "text": [
            "[[1]\n",
            " [2]\n",
            " [9]]\n"
          ]
        }
      ]
    },
    {
      "cell_type": "code",
      "source": [
        "#last row\n",
        "print(arr1[2: , :])"
      ],
      "metadata": {
        "colab": {
          "base_uri": "https://localhost:8080/"
        },
        "id": "A1SZtB-OG8hS",
        "outputId": "91d85f8e-72b8-43de-b77c-0b8944e41a87"
      },
      "execution_count": null,
      "outputs": [
        {
          "output_type": "stream",
          "name": "stdout",
          "text": [
            "[[3 6 5 4 9]]\n"
          ]
        }
      ]
    },
    {
      "cell_type": "code",
      "source": [
        "print(arr1[:2 , :])"
      ],
      "metadata": {
        "colab": {
          "base_uri": "https://localhost:8080/"
        },
        "id": "glh71-ehG_wd",
        "outputId": "747cb9a4-ac18-473a-999f-39aff276d145"
      },
      "execution_count": null,
      "outputs": [
        {
          "output_type": "stream",
          "name": "stdout",
          "text": [
            "[[4 5 3 2 1]\n",
            " [6 3 8 9 2]]\n"
          ]
        }
      ]
    },
    {
      "cell_type": "code",
      "source": [
        "print(arr1[: , 3:])"
      ],
      "metadata": {
        "colab": {
          "base_uri": "https://localhost:8080/"
        },
        "id": "urFH_1tQHGpW",
        "outputId": "c88cbd8b-ce17-451f-8948-73c9ac1df00e"
      },
      "execution_count": null,
      "outputs": [
        {
          "output_type": "stream",
          "name": "stdout",
          "text": [
            "[[2 1]\n",
            " [9 2]\n",
            " [4 9]]\n"
          ]
        }
      ]
    },
    {
      "cell_type": "code",
      "source": [
        "print(arr1[: , :3])"
      ],
      "metadata": {
        "colab": {
          "base_uri": "https://localhost:8080/"
        },
        "id": "hLKbgT8BHNrl",
        "outputId": "5841574a-b79f-4f69-c889-98ec3c711649"
      },
      "execution_count": null,
      "outputs": [
        {
          "output_type": "stream",
          "name": "stdout",
          "text": [
            "[[4 5 3]\n",
            " [6 3 8]\n",
            " [3 6 5]]\n"
          ]
        }
      ]
    },
    {
      "cell_type": "markdown",
      "source": [
        "**Numpy - Array Joining & Splitting**"
      ],
      "metadata": {
        "id": "Dbd_sbEvV6Bh"
      }
    },
    {
      "cell_type": "code",
      "source": [
        "import numpy as np\n",
        "\n",
        "a = np.array([[2,4,5] , [6,4,3]])\n",
        "print(a)\n",
        "\n",
        "print()\n",
        "\n",
        "b = np.array([[1,5,3] , [7,5,4]])\n",
        "print(b)"
      ],
      "metadata": {
        "id": "aaQm0SkMHQh1",
        "colab": {
          "base_uri": "https://localhost:8080/"
        },
        "outputId": "0603086e-2ad4-4f7d-9cd3-261c11686532"
      },
      "execution_count": null,
      "outputs": [
        {
          "output_type": "stream",
          "name": "stdout",
          "text": [
            "[[2 4 5]\n",
            " [6 4 3]]\n",
            "\n",
            "[[1 5 3]\n",
            " [7 5 4]]\n"
          ]
        }
      ]
    },
    {
      "cell_type": "code",
      "source": [
        "c = np.concatenate((a,b))\n",
        "print(c)"
      ],
      "metadata": {
        "colab": {
          "base_uri": "https://localhost:8080/"
        },
        "id": "aEm0kafPXOgj",
        "outputId": "df08bab3-da61-4bc9-cb00-31380cadf997"
      },
      "execution_count": null,
      "outputs": [
        {
          "output_type": "stream",
          "name": "stdout",
          "text": [
            "[[2 4 5]\n",
            " [6 4 3]\n",
            " [1 5 3]\n",
            " [7 5 4]]\n"
          ]
        }
      ]
    },
    {
      "cell_type": "code",
      "source": [
        "d = np.concatenate((a,b) , axis = 1)\n",
        "print(d)"
      ],
      "metadata": {
        "colab": {
          "base_uri": "https://localhost:8080/"
        },
        "id": "n2-BiGwRXrkP",
        "outputId": "b02332d7-785d-4447-aa90-ded7b1052290"
      },
      "execution_count": null,
      "outputs": [
        {
          "output_type": "stream",
          "name": "stdout",
          "text": [
            "[[2 4 5 1 5 3]\n",
            " [6 4 3 7 5 4]]\n"
          ]
        }
      ]
    },
    {
      "cell_type": "code",
      "source": [
        "e = np.hstack((a,b))\n",
        "print(e)"
      ],
      "metadata": {
        "colab": {
          "base_uri": "https://localhost:8080/"
        },
        "id": "hzccINefXwVL",
        "outputId": "efad48ca-85ca-4d9a-c634-47e51ac5798a"
      },
      "execution_count": null,
      "outputs": [
        {
          "output_type": "stream",
          "name": "stdout",
          "text": [
            "[[2 4 5 1 5 3]\n",
            " [6 4 3 7 5 4]]\n"
          ]
        }
      ]
    },
    {
      "cell_type": "code",
      "source": [
        "f = np.vstack((a,b))\n",
        "print(f)"
      ],
      "metadata": {
        "colab": {
          "base_uri": "https://localhost:8080/"
        },
        "id": "va_CqdM1YumX",
        "outputId": "da86134d-c936-411b-901b-683f8bed8006"
      },
      "execution_count": null,
      "outputs": [
        {
          "output_type": "stream",
          "name": "stdout",
          "text": [
            "[[2 4 5]\n",
            " [6 4 3]\n",
            " [1 5 3]\n",
            " [7 5 4]]\n"
          ]
        }
      ]
    },
    {
      "cell_type": "code",
      "source": [
        "n1 = np.array([1,2,3,4,5,6])\n",
        "g = np.split(n1,3)\n",
        "print(g)\n",
        "print(g[0])\n",
        "print(g[1])"
      ],
      "metadata": {
        "colab": {
          "base_uri": "https://localhost:8080/"
        },
        "id": "akzxi4tLY1Mf",
        "outputId": "63277075-f78a-47ac-e8ae-b1dfeb710a01"
      },
      "execution_count": null,
      "outputs": [
        {
          "output_type": "stream",
          "name": "stdout",
          "text": [
            "[array([1, 2]), array([3, 4]), array([5, 6])]\n",
            "[1 2]\n",
            "[3 4]\n"
          ]
        }
      ]
    },
    {
      "cell_type": "code",
      "source": [
        "n1 = np.array([[1,2],[3,4],[5,6]])\n",
        "print(n1)\n",
        "\n",
        "print()\n",
        "\n",
        "g = np.split(n1,3)\n",
        "print(g)\n",
        "print(g[0])\n",
        "print(g[1])"
      ],
      "metadata": {
        "colab": {
          "base_uri": "https://localhost:8080/"
        },
        "id": "SPY4ezogZFee",
        "outputId": "77e00117-9e46-4f17-98ff-9770a12ae5fd"
      },
      "execution_count": null,
      "outputs": [
        {
          "output_type": "stream",
          "name": "stdout",
          "text": [
            "[[1 2]\n",
            " [3 4]\n",
            " [5 6]]\n",
            "\n",
            "[array([[1, 2]]), array([[3, 4]]), array([[5, 6]])]\n",
            "[[1 2]]\n",
            "[[3 4]]\n"
          ]
        }
      ]
    },
    {
      "cell_type": "markdown",
      "source": [
        "**Array Broadcasting**\n",
        "  * Broadcasting allows us to perform arhthemetic operations on arrays of different shapes\n",
        "  * This mechanism stretches the smaller array to match the shape of the larger array without making an actual copy of the data, thus enabling efficient computation.\n",
        "  Rules of Broadcasting\n",
        "\n",
        "  * Broadcasting follows specific rules to determine if two arrays are compatible:\n",
        "\n",
        "    * Compare shapes: Starting with the trailing dimensions (i.e., the rightmost), compare dimensions one by one.\n",
        "    * Compatible dimensions: Dimensions are compatible if:\n",
        "        * They are equal, or\n",
        "        * One of them is 1.\n",
        "\n",
        "If the shapes are not compatible, broadcasting will raise an error."
      ],
      "metadata": {
        "id": "Z0OTVwv-BwRH"
      }
    },
    {
      "cell_type": "code",
      "source": [
        "import numpy as np\n",
        "\n",
        "n1 = np.array([1,2,3,4])\n",
        "print(n1)\n",
        "\n",
        "print()\n",
        "\n",
        "x = 2\n",
        "print(n1 * 2)"
      ],
      "metadata": {
        "id": "W3sRwl1iZQ_y",
        "colab": {
          "base_uri": "https://localhost:8080/"
        },
        "outputId": "a1ba3aec-0eac-42fe-f4a5-d94437d8f46d"
      },
      "execution_count": 3,
      "outputs": [
        {
          "output_type": "stream",
          "name": "stdout",
          "text": [
            "[1 2 3 4]\n",
            "\n",
            "[2 4 6 8]\n"
          ]
        }
      ]
    },
    {
      "cell_type": "code",
      "source": [
        "n2 = np.array([3,4,5,6])\n",
        "y = np.array([2,1,3,1])\n",
        "\n",
        "print(n2 * y)"
      ],
      "metadata": {
        "colab": {
          "base_uri": "https://localhost:8080/"
        },
        "id": "z7QiurE9DaHr",
        "outputId": "0186bbae-9580-402e-847b-cebfdd274c96"
      },
      "execution_count": 4,
      "outputs": [
        {
          "output_type": "stream",
          "name": "stdout",
          "text": [
            "[ 6  4 15  6]\n"
          ]
        }
      ]
    },
    {
      "cell_type": "code",
      "source": [
        "n3 = np.array([[3,4,5,6] , [2,1,8,7]])\n",
        "y = np.array([[2,1,3,1]])\n",
        "\n",
        "print(n3)\n",
        "print(\"Shape of n3\" , n3.shape)\n",
        "print()\n",
        "print(y)\n",
        "print(\"shape of y\", y.shape)"
      ],
      "metadata": {
        "colab": {
          "base_uri": "https://localhost:8080/"
        },
        "id": "WTMuhsqPEAud",
        "outputId": "0b0f1c34-ea20-4f13-fa2d-0a7082becbf9"
      },
      "execution_count": 9,
      "outputs": [
        {
          "output_type": "stream",
          "name": "stdout",
          "text": [
            "[[3 4 5 6]\n",
            " [2 1 8 7]]\n",
            "Shape of n3 (2, 4)\n",
            "\n",
            "[[2 1 3 1]]\n",
            "shape of y (1, 4)\n"
          ]
        }
      ]
    },
    {
      "cell_type": "code",
      "source": [
        "print(n3 * y)"
      ],
      "metadata": {
        "colab": {
          "base_uri": "https://localhost:8080/"
        },
        "id": "Ek6ymztzETQb",
        "outputId": "c0b53866-cb9b-4a3f-9162-90e68a948a36"
      },
      "execution_count": 10,
      "outputs": [
        {
          "output_type": "stream",
          "name": "stdout",
          "text": [
            "[[ 6  4 15  6]\n",
            " [ 4  1 24  7]]\n"
          ]
        }
      ]
    },
    {
      "cell_type": "code",
      "source": [
        "n4 = np.array([[3,4,5,6] , [2,1,8,7]])\n",
        "y = np.array([[2,1],[3,1]])\n",
        "\n",
        "print(n3)\n",
        "print(\"Shape of n3\" , n3.shape)\n",
        "print()\n",
        "print(y)\n",
        "print(\"shape of y\", y.shape)"
      ],
      "metadata": {
        "colab": {
          "base_uri": "https://localhost:8080/"
        },
        "id": "BTRJ8PLMEiTV",
        "outputId": "1f27d193-93d8-45a2-e4bf-d0b91e5440b5"
      },
      "execution_count": 11,
      "outputs": [
        {
          "output_type": "stream",
          "name": "stdout",
          "text": [
            "[[3 4 5 6]\n",
            " [2 1 8 7]]\n",
            "Shape of n3 (2, 4)\n",
            "\n",
            "[[2 1]\n",
            " [3 1]]\n",
            "shape of y (2, 2)\n"
          ]
        }
      ]
    },
    {
      "cell_type": "code",
      "source": [
        "print(n3 * y)"
      ],
      "metadata": {
        "colab": {
          "base_uri": "https://localhost:8080/",
          "height": 149
        },
        "id": "FidNiCSME1ye",
        "outputId": "f7d54c49-1714-4c45-c425-a624904a67cf"
      },
      "execution_count": 12,
      "outputs": [
        {
          "output_type": "error",
          "ename": "ValueError",
          "evalue": "operands could not be broadcast together with shapes (2,4) (2,2) ",
          "traceback": [
            "\u001b[0;31m---------------------------------------------------------------------------\u001b[0m",
            "\u001b[0;31mValueError\u001b[0m                                Traceback (most recent call last)",
            "\u001b[0;32m<ipython-input-12-fb3158741cd0>\u001b[0m in \u001b[0;36m<cell line: 1>\u001b[0;34m()\u001b[0m\n\u001b[0;32m----> 1\u001b[0;31m \u001b[0mprint\u001b[0m\u001b[0;34m(\u001b[0m\u001b[0mn3\u001b[0m \u001b[0;34m*\u001b[0m \u001b[0my\u001b[0m\u001b[0;34m)\u001b[0m\u001b[0;34m\u001b[0m\u001b[0;34m\u001b[0m\u001b[0m\n\u001b[0m",
            "\u001b[0;31mValueError\u001b[0m: operands could not be broadcast together with shapes (2,4) (2,2) "
          ]
        }
      ]
    },
    {
      "cell_type": "code",
      "source": [
        "n4 = np.array([[3,4,5,6] , [2,1,8,7]])\n",
        "y = np.array([[2],[3]])\n",
        "\n",
        "print(n3)\n",
        "print(\"Shape of n3\" , n3.shape)\n",
        "print()\n",
        "print(y)\n",
        "print(\"shape of y\", y.shape)"
      ],
      "metadata": {
        "colab": {
          "base_uri": "https://localhost:8080/"
        },
        "id": "-3j6AtqLE5Sp",
        "outputId": "239036dd-b743-40f1-d9a8-27e0cf088352"
      },
      "execution_count": 13,
      "outputs": [
        {
          "output_type": "stream",
          "name": "stdout",
          "text": [
            "[[3 4 5 6]\n",
            " [2 1 8 7]]\n",
            "Shape of n3 (2, 4)\n",
            "\n",
            "[[2]\n",
            " [3]]\n",
            "shape of y (2, 1)\n"
          ]
        }
      ]
    },
    {
      "cell_type": "code",
      "source": [
        "print(n3 * y)"
      ],
      "metadata": {
        "colab": {
          "base_uri": "https://localhost:8080/"
        },
        "id": "dBG-LB93E-9e",
        "outputId": "227f9175-ff5e-4ec6-dbff-638e661f3fa1"
      },
      "execution_count": 14,
      "outputs": [
        {
          "output_type": "stream",
          "name": "stdout",
          "text": [
            "[[ 6  8 10 12]\n",
            " [ 6  3 24 21]]\n"
          ]
        }
      ]
    },
    {
      "cell_type": "code",
      "source": [],
      "metadata": {
        "id": "dCf1By5fFJiO"
      },
      "execution_count": null,
      "outputs": []
    }
  ]
}