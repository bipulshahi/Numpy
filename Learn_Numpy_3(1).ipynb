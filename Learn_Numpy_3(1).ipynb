{
  "nbformat": 4,
  "nbformat_minor": 0,
  "metadata": {
    "colab": {
      "provenance": []
    },
    "kernelspec": {
      "name": "python3",
      "display_name": "Python 3"
    },
    "language_info": {
      "name": "python"
    }
  },
  "cells": [
    {
      "cell_type": "markdown",
      "source": [
        "**shape manipulation**"
      ],
      "metadata": {
        "id": "Uq0wUJsR9Cnb"
      }
    },
    {
      "cell_type": "code",
      "execution_count": null,
      "metadata": {
        "colab": {
          "base_uri": "https://localhost:8080/"
        },
        "id": "Xi1fJkSF7gn4",
        "outputId": "4a72a421-6973-4e5e-f1ae-40cfadd7a9ac"
      },
      "outputs": [
        {
          "output_type": "stream",
          "name": "stdout",
          "text": [
            "[[1 2 3 4]\n",
            " [5 4 3 6]\n",
            " [3 6 4 3]]\n"
          ]
        }
      ],
      "source": [
        "import numpy as np\n",
        "\n",
        "a = np.array([[1,2,3,4] , [5,4,3,6] , [3,6,4,3]])\n",
        "print(a)"
      ]
    },
    {
      "cell_type": "code",
      "source": [
        "#12 => (1,12), (12,1) , (2,6) , (6,2) , (3,4) , (4,3)\n",
        "\n",
        "b = a.reshape(4,3)\n",
        "print(b)"
      ],
      "metadata": {
        "colab": {
          "base_uri": "https://localhost:8080/"
        },
        "id": "u85H0U-k9M7u",
        "outputId": "eaad7c24-2b81-435d-9f05-2f28841e0790"
      },
      "execution_count": null,
      "outputs": [
        {
          "output_type": "stream",
          "name": "stdout",
          "text": [
            "[[1 2 3]\n",
            " [4 5 4]\n",
            " [3 6 3]\n",
            " [6 4 3]]\n"
          ]
        }
      ]
    },
    {
      "cell_type": "code",
      "source": [
        "c = np.arange(0,16)\n",
        "print(c)"
      ],
      "metadata": {
        "colab": {
          "base_uri": "https://localhost:8080/"
        },
        "id": "4dgkd84j9Z3S",
        "outputId": "e60e2bf5-4f7e-4adb-aeed-90bf66004f13"
      },
      "execution_count": null,
      "outputs": [
        {
          "output_type": "stream",
          "name": "stdout",
          "text": [
            "[ 0  1  2  3  4  5  6  7  8  9 10 11 12 13 14 15]\n"
          ]
        }
      ]
    },
    {
      "cell_type": "code",
      "source": [
        "d = c.reshape(4,4)\n",
        "print(d)"
      ],
      "metadata": {
        "colab": {
          "base_uri": "https://localhost:8080/"
        },
        "id": "zI8L3ehD9i8Q",
        "outputId": "6ebfc581-3626-4529-8314-b2d80b181ac8"
      },
      "execution_count": null,
      "outputs": [
        {
          "output_type": "stream",
          "name": "stdout",
          "text": [
            "[[ 0  1  2  3]\n",
            " [ 4  5  6  7]\n",
            " [ 8  9 10 11]\n",
            " [12 13 14 15]]\n"
          ]
        }
      ]
    },
    {
      "cell_type": "code",
      "source": [
        "print(d.ndim)\n",
        "print(d.shape)"
      ],
      "metadata": {
        "colab": {
          "base_uri": "https://localhost:8080/"
        },
        "id": "MLQy7BP99oZg",
        "outputId": "63e9ef24-ff92-4539-d1df-6404ba139bc8"
      },
      "execution_count": null,
      "outputs": [
        {
          "output_type": "stream",
          "name": "stdout",
          "text": [
            "2\n",
            "(4, 4)\n"
          ]
        }
      ]
    },
    {
      "cell_type": "code",
      "source": [
        "print(d.ravel())"
      ],
      "metadata": {
        "colab": {
          "base_uri": "https://localhost:8080/"
        },
        "id": "FJi35muR9sRT",
        "outputId": "ad592703-bbf2-4a15-96b4-722ada8e6981"
      },
      "execution_count": null,
      "outputs": [
        {
          "output_type": "stream",
          "name": "stdout",
          "text": [
            "[ 0  1  2  3  4  5  6  7  8  9 10 11 12 13 14 15]\n"
          ]
        }
      ]
    },
    {
      "cell_type": "code",
      "source": [
        "print(d.flatten())"
      ],
      "metadata": {
        "colab": {
          "base_uri": "https://localhost:8080/"
        },
        "id": "kf5xdWtv9wiq",
        "outputId": "c3b396aa-6313-4747-aa62-08a493af74e3"
      },
      "execution_count": null,
      "outputs": [
        {
          "output_type": "stream",
          "name": "stdout",
          "text": [
            "[ 0  1  2  3  4  5  6  7  8  9 10 11 12 13 14 15]\n"
          ]
        }
      ]
    },
    {
      "cell_type": "markdown",
      "source": [
        "**Indexing and slicing**"
      ],
      "metadata": {
        "id": "oClKQJQTFuUU"
      }
    },
    {
      "cell_type": "code",
      "source": [
        "arr1 = np.array([[4,5,3,2,1] , [6,3,8,9,2] , [3,6,5,4,9]])\n",
        "print(arr1)"
      ],
      "metadata": {
        "colab": {
          "base_uri": "https://localhost:8080/"
        },
        "id": "wgOrwS359y1n",
        "outputId": "16a93f6e-0dfd-4d42-8dda-ef6672498612"
      },
      "execution_count": null,
      "outputs": [
        {
          "output_type": "stream",
          "name": "stdout",
          "text": [
            "[[4 5 3 2 1]\n",
            " [6 3 8 9 2]\n",
            " [3 6 5 4 9]]\n"
          ]
        }
      ]
    },
    {
      "cell_type": "code",
      "source": [
        "#access an element from first row (index 0) and second column (index 1)\n",
        "\n",
        "print(arr1[0,1])\n",
        "print(arr1[1,2])"
      ],
      "metadata": {
        "colab": {
          "base_uri": "https://localhost:8080/"
        },
        "id": "AjuQ6sFAF6lm",
        "outputId": "6d5efca8-6563-45dc-e2a8-98fbea4c9898"
      },
      "execution_count": null,
      "outputs": [
        {
          "output_type": "stream",
          "name": "stdout",
          "text": [
            "5\n",
            "8\n"
          ]
        }
      ]
    },
    {
      "cell_type": "code",
      "source": [
        "#slicing -> subsetting a numpy array\n",
        "\n",
        "print(arr1[1 : 3 , 2 : 5])"
      ],
      "metadata": {
        "colab": {
          "base_uri": "https://localhost:8080/"
        },
        "id": "8909T64iGOjY",
        "outputId": "886bc5f9-62f1-4436-d653-84a69599ee2a"
      },
      "execution_count": null,
      "outputs": [
        {
          "output_type": "stream",
          "name": "stdout",
          "text": [
            "[[8 9 2]\n",
            " [5 4 9]]\n"
          ]
        }
      ]
    },
    {
      "cell_type": "code",
      "source": [
        "print(arr1[0:3 , 2 : 2+2])"
      ],
      "metadata": {
        "colab": {
          "base_uri": "https://localhost:8080/"
        },
        "id": "5RdNlYb9GgVp",
        "outputId": "6b98fda8-feca-441e-d390-26c1cb995892"
      },
      "execution_count": null,
      "outputs": [
        {
          "output_type": "stream",
          "name": "stdout",
          "text": [
            "[[3 2]\n",
            " [8 9]\n",
            " [5 4]]\n"
          ]
        }
      ]
    },
    {
      "cell_type": "code",
      "source": [
        "#last columns\n",
        "print(arr1[: , 4:])"
      ],
      "metadata": {
        "colab": {
          "base_uri": "https://localhost:8080/"
        },
        "id": "ZzhzjVJrGxFx",
        "outputId": "112e7f1b-8e14-4608-a3d3-ed07706b0477"
      },
      "execution_count": null,
      "outputs": [
        {
          "output_type": "stream",
          "name": "stdout",
          "text": [
            "[[1]\n",
            " [2]\n",
            " [9]]\n"
          ]
        }
      ]
    },
    {
      "cell_type": "code",
      "source": [
        "print(arr1[: , -1:])"
      ],
      "metadata": {
        "colab": {
          "base_uri": "https://localhost:8080/"
        },
        "id": "RGSBUpFDG1Yp",
        "outputId": "d437ff27-3c32-4b68-be99-803e2e187158"
      },
      "execution_count": null,
      "outputs": [
        {
          "output_type": "stream",
          "name": "stdout",
          "text": [
            "[[1]\n",
            " [2]\n",
            " [9]]\n"
          ]
        }
      ]
    },
    {
      "cell_type": "code",
      "source": [
        "#last row\n",
        "print(arr1[2: , :])"
      ],
      "metadata": {
        "colab": {
          "base_uri": "https://localhost:8080/"
        },
        "id": "A1SZtB-OG8hS",
        "outputId": "91d85f8e-72b8-43de-b77c-0b8944e41a87"
      },
      "execution_count": null,
      "outputs": [
        {
          "output_type": "stream",
          "name": "stdout",
          "text": [
            "[[3 6 5 4 9]]\n"
          ]
        }
      ]
    },
    {
      "cell_type": "code",
      "source": [
        "print(arr1[:2 , :])"
      ],
      "metadata": {
        "colab": {
          "base_uri": "https://localhost:8080/"
        },
        "id": "glh71-ehG_wd",
        "outputId": "747cb9a4-ac18-473a-999f-39aff276d145"
      },
      "execution_count": null,
      "outputs": [
        {
          "output_type": "stream",
          "name": "stdout",
          "text": [
            "[[4 5 3 2 1]\n",
            " [6 3 8 9 2]]\n"
          ]
        }
      ]
    },
    {
      "cell_type": "code",
      "source": [
        "print(arr1[: , 3:])"
      ],
      "metadata": {
        "colab": {
          "base_uri": "https://localhost:8080/"
        },
        "id": "urFH_1tQHGpW",
        "outputId": "c88cbd8b-ce17-451f-8948-73c9ac1df00e"
      },
      "execution_count": null,
      "outputs": [
        {
          "output_type": "stream",
          "name": "stdout",
          "text": [
            "[[2 1]\n",
            " [9 2]\n",
            " [4 9]]\n"
          ]
        }
      ]
    },
    {
      "cell_type": "code",
      "source": [
        "print(arr1[: , :3])"
      ],
      "metadata": {
        "colab": {
          "base_uri": "https://localhost:8080/"
        },
        "id": "hLKbgT8BHNrl",
        "outputId": "5841574a-b79f-4f69-c889-98ec3c711649"
      },
      "execution_count": null,
      "outputs": [
        {
          "output_type": "stream",
          "name": "stdout",
          "text": [
            "[[4 5 3]\n",
            " [6 3 8]\n",
            " [3 6 5]]\n"
          ]
        }
      ]
    },
    {
      "cell_type": "markdown",
      "source": [
        "**Numpy - Array Joining & Splitting**"
      ],
      "metadata": {
        "id": "Dbd_sbEvV6Bh"
      }
    },
    {
      "cell_type": "code",
      "source": [
        "import numpy as np\n",
        "\n",
        "a = np.array([[2,4,5] , [6,4,3]])\n",
        "print(a)\n",
        "\n",
        "print()\n",
        "\n",
        "b = np.array([[1,5,3] , [7,5,4]])\n",
        "print(b)"
      ],
      "metadata": {
        "id": "aaQm0SkMHQh1",
        "colab": {
          "base_uri": "https://localhost:8080/"
        },
        "outputId": "0603086e-2ad4-4f7d-9cd3-261c11686532"
      },
      "execution_count": 1,
      "outputs": [
        {
          "output_type": "stream",
          "name": "stdout",
          "text": [
            "[[2 4 5]\n",
            " [6 4 3]]\n",
            "\n",
            "[[1 5 3]\n",
            " [7 5 4]]\n"
          ]
        }
      ]
    },
    {
      "cell_type": "code",
      "source": [
        "c = np.concatenate((a,b))\n",
        "print(c)"
      ],
      "metadata": {
        "colab": {
          "base_uri": "https://localhost:8080/"
        },
        "id": "aEm0kafPXOgj",
        "outputId": "df08bab3-da61-4bc9-cb00-31380cadf997"
      },
      "execution_count": 2,
      "outputs": [
        {
          "output_type": "stream",
          "name": "stdout",
          "text": [
            "[[2 4 5]\n",
            " [6 4 3]\n",
            " [1 5 3]\n",
            " [7 5 4]]\n"
          ]
        }
      ]
    },
    {
      "cell_type": "code",
      "source": [
        "d = np.concatenate((a,b) , axis = 1)\n",
        "print(d)"
      ],
      "metadata": {
        "colab": {
          "base_uri": "https://localhost:8080/"
        },
        "id": "n2-BiGwRXrkP",
        "outputId": "b02332d7-785d-4447-aa90-ded7b1052290"
      },
      "execution_count": 4,
      "outputs": [
        {
          "output_type": "stream",
          "name": "stdout",
          "text": [
            "[[2 4 5 1 5 3]\n",
            " [6 4 3 7 5 4]]\n"
          ]
        }
      ]
    },
    {
      "cell_type": "code",
      "source": [
        "e = np.hstack((a,b))\n",
        "print(e)"
      ],
      "metadata": {
        "colab": {
          "base_uri": "https://localhost:8080/"
        },
        "id": "hzccINefXwVL",
        "outputId": "efad48ca-85ca-4d9a-c634-47e51ac5798a"
      },
      "execution_count": 5,
      "outputs": [
        {
          "output_type": "stream",
          "name": "stdout",
          "text": [
            "[[2 4 5 1 5 3]\n",
            " [6 4 3 7 5 4]]\n"
          ]
        }
      ]
    },
    {
      "cell_type": "code",
      "source": [
        "f = np.vstack((a,b))\n",
        "print(f)"
      ],
      "metadata": {
        "colab": {
          "base_uri": "https://localhost:8080/"
        },
        "id": "va_CqdM1YumX",
        "outputId": "da86134d-c936-411b-901b-683f8bed8006"
      },
      "execution_count": 6,
      "outputs": [
        {
          "output_type": "stream",
          "name": "stdout",
          "text": [
            "[[2 4 5]\n",
            " [6 4 3]\n",
            " [1 5 3]\n",
            " [7 5 4]]\n"
          ]
        }
      ]
    },
    {
      "cell_type": "code",
      "source": [
        "n1 = np.array([1,2,3,4,5,6])\n",
        "g = np.split(n1,3)\n",
        "print(g)\n",
        "print(g[0])\n",
        "print(g[1])"
      ],
      "metadata": {
        "colab": {
          "base_uri": "https://localhost:8080/"
        },
        "id": "akzxi4tLY1Mf",
        "outputId": "63277075-f78a-47ac-e8ae-b1dfeb710a01"
      },
      "execution_count": 8,
      "outputs": [
        {
          "output_type": "stream",
          "name": "stdout",
          "text": [
            "[array([1, 2]), array([3, 4]), array([5, 6])]\n",
            "[1 2]\n",
            "[3 4]\n"
          ]
        }
      ]
    },
    {
      "cell_type": "code",
      "source": [
        "n1 = np.array([[1,2],[3,4],[5,6]])\n",
        "print(n1)\n",
        "\n",
        "print()\n",
        "\n",
        "g = np.split(n1,3)\n",
        "print(g)\n",
        "print(g[0])\n",
        "print(g[1])"
      ],
      "metadata": {
        "colab": {
          "base_uri": "https://localhost:8080/"
        },
        "id": "SPY4ezogZFee",
        "outputId": "77e00117-9e46-4f17-98ff-9770a12ae5fd"
      },
      "execution_count": 9,
      "outputs": [
        {
          "output_type": "stream",
          "name": "stdout",
          "text": [
            "[[1 2]\n",
            " [3 4]\n",
            " [5 6]]\n",
            "\n",
            "[array([[1, 2]]), array([[3, 4]]), array([[5, 6]])]\n",
            "[[1 2]]\n",
            "[[3 4]]\n"
          ]
        }
      ]
    },
    {
      "cell_type": "code",
      "source": [],
      "metadata": {
        "id": "W3sRwl1iZQ_y"
      },
      "execution_count": null,
      "outputs": []
    }
  ]
}